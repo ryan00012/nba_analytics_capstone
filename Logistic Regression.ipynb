{
 "cells": [
  {
   "cell_type": "code",
   "execution_count": 1,
   "metadata": {},
   "outputs": [],
   "source": [
    "import pandas as pd\n",
    "import numpy as np\n",
    "import seaborn as sns"
   ]
  },
  {
   "cell_type": "code",
   "execution_count": 2,
   "metadata": {},
   "outputs": [
    {
     "name": "stderr",
     "output_type": "stream",
     "text": [
      "/anaconda3/lib/python3.6/site-packages/IPython/core/interactiveshell.py:2728: DtypeWarning: Columns (0,1,2,3,5,6,8,9,11,12,13,14,15,16,18,19,20) have mixed types. Specify dtype option on import or set low_memory=False.\n",
      "  interactivity=interactivity, compiler=compiler, result=result)\n"
     ]
    }
   ],
   "source": [
    "#Data prep\n",
    "shot_df = pd.read_csv(\"Hackathon_sv_shot_summary_2015-16.txt\", sep=\" \")\n",
    "\n",
    "#have 165 occurences of null for closet defender id\n",
    "shot_df = shot_df.replace({'(null)': -1})\n",
    "\n",
    "#shot_df = shot_df.drop(shot_df.index[222316])\n",
    "shot_df = shot_df[shot_df['SEASON'] != \"GAME_ID\"]\n",
    "\n",
    "#convert columns to numbers\n",
    "shot_df[[\"SEASON\", \"GAME_ID\", \"SV_GAME_ID\", \"TEAM_ID\", \"SV_TEAM_ID\", \"PERSON_ID\", \"SV_PLAYER_ID\", \"PERIOD\", \"GAME_CLOCK\", \"WALL_CLOCK\", \"DRIBBLES\", \"SHOT_DIST\", \"TOUCH_TIME\", \"CLOSE_DEF_PERSON_ID\", \"CLOSE_DEF_SV_PLAYER_ID\", \"CLOSE_DEF_DIST\", \"PT_VALUE\", \"PTS\"]] = shot_df[[\"SEASON\", \"GAME_ID\", \"SV_GAME_ID\", \"TEAM_ID\", \"SV_TEAM_ID\", \"PERSON_ID\", \"SV_PLAYER_ID\", \"PERIOD\", \"GAME_CLOCK\", \"WALL_CLOCK\", \"DRIBBLES\", \"SHOT_DIST\", \"TOUCH_TIME\", \"CLOSE_DEF_PERSON_ID\", \"CLOSE_DEF_SV_PLAYER_ID\", \"CLOSE_DEF_DIST\", \"PT_VALUE\", \"PTS\"]].apply(pd.to_numeric)\n",
    "\n",
    "#convert missed/made to 0/1\n",
    "shot_df['SHOT_RESULT'] = shot_df['SHOT_RESULT'].replace({'missed': 0})\n",
    "shot_df['SHOT_RESULT'] = shot_df['SHOT_RESULT'].replace({'made': 1})\n",
    "\n",
    "#classify shot distances\n",
    "shot_df.loc[shot_df['PT_VALUE'] == 3, 'SHOT_TYPE'] = \"Three Pointer\"\n",
    "shot_df.loc[(shot_df['SHOT_DIST'] >= 15) & (shot_df['PT_VALUE'] == 2), 'SHOT_TYPE'] = \"Long Two-Pointer\"\n",
    "shot_df.loc[(shot_df['SHOT_DIST'] >= 5) & (shot_df['SHOT_DIST'] < 15), 'SHOT_TYPE'] = \"Midrange\"\n",
    "shot_df.loc[shot_df['SHOT_DIST']< 5, 'SHOT_TYPE'] = \"Layup\""
   ]
  },
  {
   "cell_type": "code",
   "execution_count": 3,
   "metadata": {},
   "outputs": [
    {
     "name": "stdout",
     "output_type": "stream",
     "text": [
      "<class 'pandas.core.frame.DataFrame'>\n",
      "Index: 222317 entries, 1 to 222317\n",
      "Data columns (total 22 columns):\n",
      "SEASON                    222317 non-null int64\n",
      "GAME_ID                   222317 non-null int64\n",
      "SV_GAME_ID                222317 non-null int64\n",
      "GAME_DATE                 222317 non-null object\n",
      "TEAM_ID                   222317 non-null int64\n",
      "SV_TEAM_ID                222317 non-null int64\n",
      "SHOT_TAKER_TEAM           222317 non-null object\n",
      "PERSON_ID                 222317 non-null int64\n",
      "SV_PLAYER_ID              222317 non-null int64\n",
      "SHOT_RESULT               222317 non-null int64\n",
      "PERIOD                    222317 non-null int64\n",
      "GAME_CLOCK                222317 non-null int64\n",
      "WALL_CLOCK                222317 non-null int64\n",
      "DRIBBLES                  222317 non-null int64\n",
      "SHOT_DIST                 222317 non-null float64\n",
      "TOUCH_TIME                222317 non-null float64\n",
      "CLOSE_DEF_PERSON_ID       222317 non-null int64\n",
      "CLOSE_DEF_SV_PLAYER_ID    222317 non-null int64\n",
      "CLOSE_DEF_DIST            222317 non-null float64\n",
      "PT_VALUE                  222317 non-null int64\n",
      "PTS                       222317 non-null float64\n",
      "SHOT_TYPE                 222317 non-null object\n",
      "dtypes: float64(4), int64(15), object(3)\n",
      "memory usage: 39.0+ MB\n"
     ]
    }
   ],
   "source": [
    "#Catogorical Features\n",
    "shot_df.info()"
   ]
  },
  {
   "cell_type": "code",
   "execution_count": 30,
   "metadata": {},
   "outputs": [
    {
     "data": {
      "text/html": [
       "<div>\n",
       "<style scoped>\n",
       "    .dataframe tbody tr th:only-of-type {\n",
       "        vertical-align: middle;\n",
       "    }\n",
       "\n",
       "    .dataframe tbody tr th {\n",
       "        vertical-align: top;\n",
       "    }\n",
       "\n",
       "    .dataframe thead th {\n",
       "        text-align: right;\n",
       "    }\n",
       "</style>\n",
       "<table border=\"1\" class=\"dataframe\">\n",
       "  <thead>\n",
       "    <tr style=\"text-align: right;\">\n",
       "      <th></th>\n",
       "      <th>SHOT_RESULT</th>\n",
       "      <th>SHOT_DIST</th>\n",
       "      <th>DRIBBLES</th>\n",
       "      <th>CLOSE_DEF_DIST</th>\n",
       "      <th>TOUCH_TIME</th>\n",
       "    </tr>\n",
       "  </thead>\n",
       "  <tbody>\n",
       "    <tr>\n",
       "      <th>1</th>\n",
       "      <td>0</td>\n",
       "      <td>40.10</td>\n",
       "      <td>3</td>\n",
       "      <td>0.68</td>\n",
       "      <td>1.87</td>\n",
       "    </tr>\n",
       "    <tr>\n",
       "      <th>2</th>\n",
       "      <td>0</td>\n",
       "      <td>2.43</td>\n",
       "      <td>16</td>\n",
       "      <td>2.90</td>\n",
       "      <td>16.96</td>\n",
       "    </tr>\n",
       "    <tr>\n",
       "      <th>3</th>\n",
       "      <td>1</td>\n",
       "      <td>21.09</td>\n",
       "      <td>0</td>\n",
       "      <td>4.03</td>\n",
       "      <td>0.84</td>\n",
       "    </tr>\n",
       "    <tr>\n",
       "      <th>4</th>\n",
       "      <td>1</td>\n",
       "      <td>4.60</td>\n",
       "      <td>13</td>\n",
       "      <td>0.97</td>\n",
       "      <td>9.88</td>\n",
       "    </tr>\n",
       "    <tr>\n",
       "      <th>5</th>\n",
       "      <td>0</td>\n",
       "      <td>22.59</td>\n",
       "      <td>3</td>\n",
       "      <td>4.52</td>\n",
       "      <td>5.42</td>\n",
       "    </tr>\n",
       "  </tbody>\n",
       "</table>\n",
       "</div>"
      ],
      "text/plain": [
       "   SHOT_RESULT  SHOT_DIST  DRIBBLES  CLOSE_DEF_DIST  TOUCH_TIME\n",
       "1            0      40.10         3            0.68        1.87\n",
       "2            0       2.43        16            2.90       16.96\n",
       "3            1      21.09         0            4.03        0.84\n",
       "4            1       4.60        13            0.97        9.88\n",
       "5            0      22.59         3            4.52        5.42"
      ]
     },
     "execution_count": 30,
     "metadata": {},
     "output_type": "execute_result"
    }
   ],
   "source": [
    "# remove season, game_ID, SV_game_ID, Wall_clock, PT-Value, PTS\n",
    "#shot_df.drop(['SEASON','GAME_ID','SV_GAME_ID','GAME_DATE', 'WALL_CLOCK', 'SHOT_TAKER_TEAM','PT_VALUE', 'PTS', 'SHOT_TYPE'],axis=1,inplace=True)\n",
    "\n",
    "\n",
    "#drop everything but shot distance\n",
    "shot_df = shot_df[['SHOT_RESULT', \"SHOT_DIST\", \"DRIBBLES\", \"CLOSE_DEF_DIST\", \"TOUCH_TIME\", \"SV_PLAYER_ID\", \"CLOSE_DEF_SV_PLAYER_ID\"]]\n",
    "#shot_df = shot_df[['SHOT_RESULT', \"SHOT_DIST\", \"DRIBBLES\", \"CLOSE_DEF_DIST\", \"TOUCH_TIME\"]]\n",
    "\n",
    "shot_df.head()"
   ]
  },
  {
   "cell_type": "code",
   "execution_count": 31,
   "metadata": {},
   "outputs": [],
   "source": [
    "from sklearn.model_selection import train_test_split\n"
   ]
  },
  {
   "cell_type": "code",
   "execution_count": 32,
   "metadata": {},
   "outputs": [],
   "source": [
    "X_train, X_test, y_train, y_test = train_test_split(shot_df.drop('SHOT_RESULT',axis=1), \n",
    "                                                    shot_df['SHOT_RESULT'], test_size=0.3, \n",
    "                                                    random_state=101)"
   ]
  },
  {
   "cell_type": "code",
   "execution_count": 33,
   "metadata": {},
   "outputs": [],
   "source": [
    "from sklearn.linear_model import LogisticRegression\n"
   ]
  },
  {
   "cell_type": "code",
   "execution_count": 34,
   "metadata": {
    "scrolled": true
   },
   "outputs": [],
   "source": [
    "logmodel = LogisticRegression()\n",
    "logmodel.fit(X_train,y_train)\n",
    "predictions = logmodel.predict_proba(X_test)\n",
    "shot_probability = []\n",
    "for i in predictions:\n",
    "    shot_probability.append(round(i[1], 4))\n"
   ]
  },
  {
   "cell_type": "code",
   "execution_count": 35,
   "metadata": {},
   "outputs": [],
   "source": [
    "X_test['SHOT_PROBABILITY'] = shot_probability"
   ]
  },
  {
   "cell_type": "code",
   "execution_count": null,
   "metadata": {},
   "outputs": [],
   "source": []
  },
  {
   "cell_type": "code",
   "execution_count": 10,
   "metadata": {},
   "outputs": [],
   "source": [
    "#who takes the best shots??"
   ]
  },
  {
   "cell_type": "code",
   "execution_count": 11,
   "metadata": {},
   "outputs": [],
   "source": [
    "#eligible_shooters = X_test.groupby('SV_PLAYER_ID')\n",
    "#eligible_shooters =  eligible_shooters.filter(lambda x: len(x) > 150)  # pandas 0.13.1\n",
    "\n",
    "eligible_shooters_all = shot_df[['SV_PLAYER_ID']].groupby('SV_PLAYER_ID')\n",
    "eligible_shooters_all = eligible_shooters_all.filter(lambda x: len(x) > 500)  # pandas 0.13.1\n",
    "eligible_shooters_all = eligible_shooters_all[['SV_PLAYER_ID']].drop_duplicates()\n",
    "\n",
    "eligible_shooters = X_test.groupby('SV_PLAYER_ID')\n",
    "eligible_shooters = eligible_shooters.filter(lambda x: len(x) > 5)  # pandas 0.13.1\n",
    "\n",
    "eligible_shooters =  pd.merge(eligible_shooters_all, eligible_shooters,  how='left', left_on='SV_PLAYER_ID', right_on = 'SV_PLAYER_ID')\n",
    "\n"
   ]
  },
  {
   "cell_type": "code",
   "execution_count": 12,
   "metadata": {},
   "outputs": [
    {
     "data": {
      "text/plain": [
       "187"
      ]
     },
     "execution_count": 12,
     "metadata": {},
     "output_type": "execute_result"
    }
   ],
   "source": [
    "len(eligible_shooters_all)"
   ]
  },
  {
   "cell_type": "code",
   "execution_count": 13,
   "metadata": {},
   "outputs": [],
   "source": [
    "best_shooter = (eligible_shooters.groupby(['SV_PLAYER_ID'], as_index=False).mean()\n",
    "            .groupby('SV_PLAYER_ID')['SHOT_PROBABILITY'].mean())"
   ]
  },
  {
   "cell_type": "code",
   "execution_count": 14,
   "metadata": {},
   "outputs": [
    {
     "data": {
      "text/plain": [
       "SV_PLAYER_ID\n",
       "4497    0.590481\n",
       "5163    0.569746\n",
       "3818    0.566666\n",
       "4884    0.566125\n",
       "4904    0.550669\n",
       "4886    0.546609\n",
       "4899    0.545131\n",
       "3983    0.544481\n",
       "4764    0.543641\n",
       "5015    0.540607\n",
       "5157    0.535093\n",
       "3842    0.532508\n",
       "5192    0.530340\n",
       "4722    0.529263\n",
       "4477    0.528603\n",
       "4631    0.526256\n",
       "4290    0.519785\n",
       "5156    0.518755\n",
       "5352    0.517170\n",
       "5262    0.515778\n",
       "5191    0.511560\n",
       "4718    0.510317\n",
       "5318    0.504434\n",
       "5350    0.504352\n",
       "5434    0.501821\n",
       "5293    0.499527\n",
       "5185    0.499386\n",
       "4613    0.499271\n",
       "5021    0.498915\n",
       "4720    0.496578\n",
       "          ...   \n",
       "4694    0.401688\n",
       "4152    0.401236\n",
       "4244    0.400469\n",
       "4487    0.400281\n",
       "4890    0.399412\n",
       "4725    0.399399\n",
       "5073    0.398530\n",
       "4563    0.397669\n",
       "4905    0.397445\n",
       "4660    0.395013\n",
       "4139    0.394972\n",
       "5433    0.393112\n",
       "5160    0.392250\n",
       "5334    0.388644\n",
       "3930    0.388439\n",
       "4612    0.385307\n",
       "4633    0.384446\n",
       "3835    0.384259\n",
       "4296    0.383471\n",
       "5012    0.383348\n",
       "3407    0.382040\n",
       "3971    0.381224\n",
       "5095    0.380222\n",
       "4889    0.379375\n",
       "5253    0.378185\n",
       "5014    0.376505\n",
       "5204    0.373135\n",
       "3960    0.373051\n",
       "3118    0.356901\n",
       "3754    0.355399\n",
       "Name: SHOT_PROBABILITY, Length: 187, dtype: float64"
      ]
     },
     "execution_count": 14,
     "metadata": {},
     "output_type": "execute_result"
    }
   ],
   "source": [
    "best_shooter.sort_values(ascending = False)\n"
   ]
  },
  {
   "cell_type": "code",
   "execution_count": 15,
   "metadata": {},
   "outputs": [
    {
     "name": "stderr",
     "output_type": "stream",
     "text": [
      "/anaconda3/lib/python3.6/site-packages/IPython/core/interactiveshell.py:2728: DtypeWarning: Columns (0,1,2,3,5,6,8,9,11,12,13,14,15,16,18,19,20) have mixed types. Specify dtype option on import or set low_memory=False.\n",
      "  interactivity=interactivity, compiler=compiler, result=result)\n"
     ]
    }
   ],
   "source": [
    "# link name and NBA player ID\n",
    "text = open(\"Hackathon_player_names_matched_team.txt\")\n",
    "line = text.readline()\n",
    "line = text.readline()\n",
    "IDtoName = {} # ID as keys\n",
    "NametoID = {} # name as keys\n",
    "\n",
    "while line != \"\" :\n",
    "    data = line.split()\n",
    "    name = data[4] + \" \" + data[5]\n",
    "    name = name.replace(\"\\\"\",\"\")\n",
    "    ID = (float(data[3]))\n",
    "    if ID not in IDtoName:\n",
    "        IDtoName[ID] = name\n",
    "    if name not in NametoID:\n",
    "        NametoID[name] = ID\n",
    "    line = text.readline()\n",
    "    \n",
    "#print(NametoID[\"LeBron James\"])\n",
    "#print(IDtoName[2544])\n",
    "\n",
    "\n",
    "\n",
    "shot_df_name = pd.read_csv(\"Hackathon_sv_shot_summary_2015-16.txt\", sep=\" \")\n",
    "\n",
    "#have 165 occurences of null for closet defender id\n",
    "shot_df_name = shot_df_name.replace({'(null)': -1})\n",
    "\n",
    "#shot_df = shot_df.drop(shot_df.index[222316])\n",
    "shot_df_name = shot_df_name[shot_df_name['SEASON'] != \"GAME_ID\"]\n",
    "\n",
    "shot_df_name = shot_df_name[['PERSON_ID', 'SV_PLAYER_ID']]\n",
    "\n",
    "#convert columns to numbers\n",
    "shot_df_name[['PERSON_ID', 'SV_PLAYER_ID']] = shot_df_name[['PERSON_ID', 'SV_PLAYER_ID']].apply(pd.to_numeric).drop_duplicates()\n",
    "\n",
    "\n",
    "names_df = pd.DataFrame(list(NametoID.items()), columns = ['NAME', 'PERSON_ID'])\n",
    "\n",
    "names_df = pd.merge(names_df, shot_df_name,  how='left', left_on='PERSON_ID', right_on = 'PERSON_ID')\n",
    "\n",
    "names_df = names_df.dropna()\n",
    "\n",
    "\n"
   ]
  },
  {
   "cell_type": "code",
   "execution_count": 16,
   "metadata": {},
   "outputs": [],
   "source": [
    "best_shooter_df = pd.DataFrame({'SV_PLAYER_ID':best_shooter.index, 'AVG SHOT PROB':best_shooter.values})\n",
    "best_shooter_df = pd.merge(best_shooter_df, names_df,  how='left', left_on='SV_PLAYER_ID', right_on = 'SV_PLAYER_ID')\n",
    "\n"
   ]
  },
  {
   "cell_type": "code",
   "execution_count": 17,
   "metadata": {},
   "outputs": [
    {
     "data": {
      "text/html": [
       "<div>\n",
       "<style scoped>\n",
       "    .dataframe tbody tr th:only-of-type {\n",
       "        vertical-align: middle;\n",
       "    }\n",
       "\n",
       "    .dataframe tbody tr th {\n",
       "        vertical-align: top;\n",
       "    }\n",
       "\n",
       "    .dataframe thead th {\n",
       "        text-align: right;\n",
       "    }\n",
       "</style>\n",
       "<table border=\"1\" class=\"dataframe\">\n",
       "  <thead>\n",
       "    <tr style=\"text-align: right;\">\n",
       "      <th></th>\n",
       "      <th>AVG SHOT PROB</th>\n",
       "      <th>NAME</th>\n",
       "    </tr>\n",
       "  </thead>\n",
       "  <tbody>\n",
       "    <tr>\n",
       "      <th>77</th>\n",
       "      <td>0.590481</td>\n",
       "      <td>DeAndre Jordan</td>\n",
       "    </tr>\n",
       "    <tr>\n",
       "      <th>168</th>\n",
       "      <td>0.569746</td>\n",
       "      <td>Steven Adams</td>\n",
       "    </tr>\n",
       "    <tr>\n",
       "      <th>16</th>\n",
       "      <td>0.566666</td>\n",
       "      <td>Dwight Howard</td>\n",
       "    </tr>\n",
       "    <tr>\n",
       "      <th>119</th>\n",
       "      <td>0.566125</td>\n",
       "      <td>Tristan Thompson</td>\n",
       "    </tr>\n",
       "    <tr>\n",
       "      <th>130</th>\n",
       "      <td>0.550669</td>\n",
       "      <td>Kenneth Faried</td>\n",
       "    </tr>\n",
       "    <tr>\n",
       "      <th>120</th>\n",
       "      <td>0.546609</td>\n",
       "      <td>Jonas Valanciunas</td>\n",
       "    </tr>\n",
       "    <tr>\n",
       "      <th>128</th>\n",
       "      <td>0.545131</td>\n",
       "      <td>Enes Kanter</td>\n",
       "    </tr>\n",
       "    <tr>\n",
       "      <th>39</th>\n",
       "      <td>0.544481</td>\n",
       "      <td>Marcin Gortat</td>\n",
       "    </tr>\n",
       "    <tr>\n",
       "      <th>113</th>\n",
       "      <td>0.543641</td>\n",
       "      <td>Hassan Whiteside</td>\n",
       "    </tr>\n",
       "    <tr>\n",
       "      <th>144</th>\n",
       "      <td>0.540607</td>\n",
       "      <td>Andre Drummond</td>\n",
       "    </tr>\n",
       "  </tbody>\n",
       "</table>\n",
       "</div>"
      ],
      "text/plain": [
       "     AVG SHOT PROB               NAME\n",
       "77        0.590481     DeAndre Jordan\n",
       "168       0.569746       Steven Adams\n",
       "16        0.566666      Dwight Howard\n",
       "119       0.566125   Tristan Thompson\n",
       "130       0.550669     Kenneth Faried\n",
       "120       0.546609  Jonas Valanciunas\n",
       "128       0.545131        Enes Kanter\n",
       "39        0.544481      Marcin Gortat\n",
       "113       0.543641   Hassan Whiteside\n",
       "144       0.540607     Andre Drummond"
      ]
     },
     "execution_count": 17,
     "metadata": {},
     "output_type": "execute_result"
    }
   ],
   "source": [
    "#shot_df.drop(['SEASON','GAME_ID','SV_GAME_ID','GAME_DATE', 'WALL_CLOCK', 'SHOT_TAKER_TEAM','PT_VALUE', 'PTS', 'SHOT_TYPE'],axis=1,inplace=True)\n",
    "best_shooter_df.drop(['SV_PLAYER_ID', 'PERSON_ID'], axis = 1, inplace = True)\n",
    "best_shooter_df.sort_values(by = ['AVG SHOT PROB'], ascending = False).head(10)\n",
    "\n"
   ]
  },
  {
   "cell_type": "markdown",
   "metadata": {},
   "source": [
    "Testing"
   ]
  },
  {
   "cell_type": "code",
   "execution_count": 18,
   "metadata": {},
   "outputs": [
    {
     "name": "stderr",
     "output_type": "stream",
     "text": [
      "/anaconda3/lib/python3.6/site-packages/IPython/core/interactiveshell.py:2728: DtypeWarning: Columns (0,1,2,3,5,6,8,9,11,12,13,14,15,16,18,19,20) have mixed types. Specify dtype option on import or set low_memory=False.\n",
      "  interactivity=interactivity, compiler=compiler, result=result)\n"
     ]
    }
   ],
   "source": [
    "#Data prep\n",
    "shot_df_original = pd.read_csv(\"Hackathon_sv_shot_summary_2015-16.txt\", sep=\" \")\n",
    "\n",
    "#have 165 occurences of null for closet defender id\n",
    "shot_df_original = shot_df_original.replace({'(null)': -1})\n",
    "\n",
    "#shot_df = shot_df.drop(shot_df.index[222316])\n",
    "shot_df_original = shot_df_original[shot_df_original['SEASON'] != \"GAME_ID\"]\n",
    "\n",
    "#convert columns to numbers\n",
    "shot_df_original[[\"SEASON\", \"GAME_ID\", \"SV_GAME_ID\", \"TEAM_ID\", \"SV_TEAM_ID\", \"PERSON_ID\", \"SV_PLAYER_ID\", \"PERIOD\", \"GAME_CLOCK\", \"WALL_CLOCK\", \"DRIBBLES\", \"SHOT_DIST\", \"TOUCH_TIME\", \"CLOSE_DEF_PERSON_ID\", \"CLOSE_DEF_SV_PLAYER_ID\", \"CLOSE_DEF_DIST\", \"PT_VALUE\", \"PTS\"]] = shot_df_original[[\"SEASON\", \"GAME_ID\", \"SV_GAME_ID\", \"TEAM_ID\", \"SV_TEAM_ID\", \"PERSON_ID\", \"SV_PLAYER_ID\", \"PERIOD\", \"GAME_CLOCK\", \"WALL_CLOCK\", \"DRIBBLES\", \"SHOT_DIST\", \"TOUCH_TIME\", \"CLOSE_DEF_PERSON_ID\", \"CLOSE_DEF_SV_PLAYER_ID\", \"CLOSE_DEF_DIST\", \"PT_VALUE\", \"PTS\"]].apply(pd.to_numeric)\n",
    "\n",
    "\n",
    "points_df = pd.merge(X_test, shot_df_original, how = 'left', left_index=True, right_index=True)\n",
    "\n",
    "points_df = points_df[['SHOT_DIST_x', 'DRIBBLES_x', 'CLOSE_DEF_DIST_x', 'TOUCH_TIME_x', 'SV_PLAYER_ID_x', 'CLOSE_DEF_SV_PLAYER_ID_x', 'SHOT_PROBABILITY', 'PT_VALUE', 'PTS']]\n",
    "\n",
    "points_df.columns = ['SHOT_DIST', 'DRIBBLES', 'CLOSE_DEF_DIST', 'TOUCH_TIME', 'SV_PLAYER_ID', 'CLOSE_DEF_SV_PLAYER_ID', 'SHOT_PROBABILITY', 'PT_VALUE', 'PTS']\n",
    "\n",
    "points_df['EXPECTED_POINTS'] = points_df['SHOT_PROBABILITY']*points_df['PT_VALUE']\n"
   ]
  },
  {
   "cell_type": "code",
   "execution_count": 19,
   "metadata": {},
   "outputs": [
    {
     "name": "stdout",
     "output_type": "stream",
     "text": [
      "66617.0582\n"
     ]
    }
   ],
   "source": [
    "Total = points_df['EXPECTED_POINTS'].sum()\n",
    "print (Total)"
   ]
  },
  {
   "cell_type": "code",
   "execution_count": 20,
   "metadata": {},
   "outputs": [
    {
     "name": "stdout",
     "output_type": "stream",
     "text": [
      "67033.0\n"
     ]
    }
   ],
   "source": [
    "Total = points_df['PTS'].sum()\n",
    "print (Total)"
   ]
  },
  {
   "cell_type": "markdown",
   "metadata": {},
   "source": [
    "Log Loss Score"
   ]
  },
  {
   "cell_type": "code",
   "execution_count": 36,
   "metadata": {},
   "outputs": [],
   "source": [
    "from sklearn.metrics import log_loss\n",
    "from sklearn.metrics import roc_auc_score\n",
    "from sklearn.metrics import brier_score_loss\n"
   ]
  },
  {
   "cell_type": "code",
   "execution_count": 37,
   "metadata": {},
   "outputs": [
    {
     "data": {
      "text/plain": [
       "0.6615729943862341"
      ]
     },
     "execution_count": 37,
     "metadata": {},
     "output_type": "execute_result"
    }
   ],
   "source": [
    "# predict probabilities\n",
    "probs = logmodel.predict_proba(X_test.drop(['SHOT_PROBABILITY'], axis = 1))\n",
    "# keep the predictions for class 1 only\n",
    "                               \n",
    "probs = probs[:, 1]\n",
    "# calculate log loss\n",
    "loss = log_loss(y_test, probs)\n",
    "loss"
   ]
  },
  {
   "cell_type": "code",
   "execution_count": 38,
   "metadata": {},
   "outputs": [
    {
     "data": {
      "text/plain": [
       "0.6299726397388031"
      ]
     },
     "execution_count": 38,
     "metadata": {},
     "output_type": "execute_result"
    }
   ],
   "source": [
    "auc_loss = roc_auc_score(y_test, probs)\n",
    "auc_loss"
   ]
  },
  {
   "cell_type": "code",
   "execution_count": 39,
   "metadata": {},
   "outputs": [
    {
     "data": {
      "text/plain": [
       "0.2345677743418934"
      ]
     },
     "execution_count": 39,
     "metadata": {},
     "output_type": "execute_result"
    }
   ],
   "source": [
    "brier_loss = brier_score_loss(y_test, probs)\n",
    "brier_loss"
   ]
  },
  {
   "cell_type": "code",
   "execution_count": 25,
   "metadata": {},
   "outputs": [],
   "source": [
    "from sklearn.metrics import r2_score\n"
   ]
  },
  {
   "cell_type": "code",
   "execution_count": 27,
   "metadata": {},
   "outputs": [
    {
     "data": {
      "text/plain": [
       "0.051698573751231214"
      ]
     },
     "execution_count": 27,
     "metadata": {},
     "output_type": "execute_result"
    }
   ],
   "source": [
    "r2_score(y_test, probs)"
   ]
  },
  {
   "cell_type": "code",
   "execution_count": 29,
   "metadata": {},
   "outputs": [
    {
     "data": {
      "text/plain": [
       "array([0.40203049, 0.56416794, 0.59280644, ..., 0.75992116, 0.36348273,\n",
       "       0.48234962])"
      ]
     },
     "execution_count": 29,
     "metadata": {},
     "output_type": "execute_result"
    }
   ],
   "source": []
  },
  {
   "cell_type": "code",
   "execution_count": null,
   "metadata": {},
   "outputs": [],
   "source": []
  }
 ],
 "metadata": {
  "kernelspec": {
   "display_name": "Python 3",
   "language": "python",
   "name": "python3"
  },
  "language_info": {
   "codemirror_mode": {
    "name": "ipython",
    "version": 3
   },
   "file_extension": ".py",
   "mimetype": "text/x-python",
   "name": "python",
   "nbconvert_exporter": "python",
   "pygments_lexer": "ipython3",
   "version": "3.6.8"
  }
 },
 "nbformat": 4,
 "nbformat_minor": 2
}
