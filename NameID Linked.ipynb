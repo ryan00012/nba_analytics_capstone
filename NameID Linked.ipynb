{
 "cells": [
  {
   "cell_type": "code",
   "execution_count": 9,
   "metadata": {},
   "outputs": [],
   "source": [
    "import pandas as pd"
   ]
  },
  {
   "cell_type": "code",
   "execution_count": 6,
   "metadata": {},
   "outputs": [
    {
     "name": "stdout",
     "output_type": "stream",
     "text": [
      "2544\n",
      "LeBron James\n"
     ]
    }
   ],
   "source": [
    "# link name and NBA player ID\n",
    "text = open(\"Hackathon_player_names_matched_team.txt\")\n",
    "line = text.readline()\n",
    "line = text.readline()\n",
    "IDtoName = {} # ID as keys\n",
    "NametoID = {} # name as keys\n",
    "\n",
    "while line != \"\" :\n",
    "    data = line.split()\n",
    "    name = data[4] + \" \" + data[5]\n",
    "    name = name.replace(\"\\\"\",\"\")\n",
    "    ID = int(data[3])\n",
    "    if ID not in IDtoName:\n",
    "        IDtoName[ID] = name\n",
    "    if name not in NametoID:\n",
    "        NametoID[name] = ID\n",
    "    line = text.readline()\n",
    "    \n",
    "print(NametoID[\"LeBron James\"])\n",
    "print(IDtoName[2544])"
   ]
  },
  {
   "cell_type": "code",
   "execution_count": 10,
   "metadata": {},
   "outputs": [
    {
     "name": "stderr",
     "output_type": "stream",
     "text": [
      "/anaconda3/lib/python3.6/site-packages/IPython/core/interactiveshell.py:2728: DtypeWarning: Columns (0,1,2,3,5,6,8,9,11,12,13,14,15,16,18,19,20) have mixed types. Specify dtype option on import or set low_memory=False.\n",
      "  interactivity=interactivity, compiler=compiler, result=result)\n"
     ]
    }
   ],
   "source": [
    "shot_df_name = pd.read_csv(\"Hackathon_sv_shot_summary_2015-16.txt\", sep=\" \")\n",
    "\n",
    "#have 165 occurences of null for closet defender id\n",
    "shot_df_name = shot_df_name.replace({'(null)': -1})\n",
    "\n",
    "#shot_df = shot_df.drop(shot_df.index[222316])\n",
    "shot_df_name = shot_df_name[shot_df_name['SEASON'] != \"GAME_ID\"]\n",
    "\n",
    "shot_df_name = shot_df_name[['PERSON_ID', 'SV_PLAYER_ID']]\n",
    "\n",
    "#convert columns to numbers\n",
    "shot_df_name[['PERSON_ID', 'SV_PLAYER_ID']] = shot_df_name[['PERSON_ID', 'SV_PLAYER_ID']].apply(pd.to_numeric).drop_duplicates()\n",
    "\n",
    "\n",
    "names_df = pd.DataFrame(list(NametoID.items()), columns = ['NAME', 'PERSON_ID'])\n",
    "\n",
    "names_df = pd.merge(names_df, shot_df_name,  how='left', left_on='PERSON_ID', right_on = 'PERSON_ID')\n",
    "\n",
    "names_df = names_df.dropna()"
   ]
  },
  {
   "cell_type": "code",
   "execution_count": 15,
   "metadata": {},
   "outputs": [
    {
     "data": {
      "text/html": [
       "<div>\n",
       "<style scoped>\n",
       "    .dataframe tbody tr th:only-of-type {\n",
       "        vertical-align: middle;\n",
       "    }\n",
       "\n",
       "    .dataframe tbody tr th {\n",
       "        vertical-align: top;\n",
       "    }\n",
       "\n",
       "    .dataframe thead th {\n",
       "        text-align: right;\n",
       "    }\n",
       "</style>\n",
       "<table border=\"1\" class=\"dataframe\">\n",
       "  <thead>\n",
       "    <tr style=\"text-align: right;\">\n",
       "      <th></th>\n",
       "      <th>NAME</th>\n",
       "      <th>PERSON_ID</th>\n",
       "      <th>SV_PLAYER_ID</th>\n",
       "    </tr>\n",
       "  </thead>\n",
       "  <tbody>\n",
       "    <tr>\n",
       "      <th>4283</th>\n",
       "      <td>Gordon Hayward</td>\n",
       "      <td>202330</td>\n",
       "      <td>4724.0</td>\n",
       "    </tr>\n",
       "  </tbody>\n",
       "</table>\n",
       "</div>"
      ],
      "text/plain": [
       "                NAME  PERSON_ID  SV_PLAYER_ID\n",
       "4283  Gordon Hayward     202330        4724.0"
      ]
     },
     "execution_count": 15,
     "metadata": {},
     "output_type": "execute_result"
    }
   ],
   "source": [
    "names_df[names_df['SV_PLAYER_ID'] == 4724]"
   ]
  },
  {
   "cell_type": "code",
   "execution_count": null,
   "metadata": {},
   "outputs": [],
   "source": []
  }
 ],
 "metadata": {
  "kernelspec": {
   "display_name": "Python 3",
   "language": "python",
   "name": "python3"
  },
  "language_info": {
   "codemirror_mode": {
    "name": "ipython",
    "version": 3
   },
   "file_extension": ".py",
   "mimetype": "text/x-python",
   "name": "python",
   "nbconvert_exporter": "python",
   "pygments_lexer": "ipython3",
   "version": "3.6.4"
  }
 },
 "nbformat": 4,
 "nbformat_minor": 1
}
