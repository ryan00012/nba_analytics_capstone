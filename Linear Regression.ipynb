{
 "cells": [
  {
   "cell_type": "code",
   "execution_count": 11,
   "metadata": {},
   "outputs": [],
   "source": [
    "import pandas as pd\n",
    "import numpy as np\n",
    "import seaborn as sns"
   ]
  },
  {
   "cell_type": "code",
   "execution_count": 58,
   "metadata": {},
   "outputs": [
    {
     "name": "stderr",
     "output_type": "stream",
     "text": [
      "/anaconda3/lib/python3.6/site-packages/IPython/core/interactiveshell.py:2728: DtypeWarning: Columns (0,1,2,3,5,6,8,9,11,12,13,14,15,16,18,19,20) have mixed types. Specify dtype option on import or set low_memory=False.\n",
      "  interactivity=interactivity, compiler=compiler, result=result)\n"
     ]
    }
   ],
   "source": [
    "#Data prep\n",
    "shot_df = pd.read_csv(\"Hackathon_sv_shot_summary_2015-16.txt\", sep=\" \")\n",
    "\n",
    "#have 165 occurences of null for closet defender id\n",
    "shot_df = shot_df.replace({'(null)': -1})\n",
    "\n",
    "#shot_df = shot_df.drop(shot_df.index[222316])\n",
    "shot_df = shot_df[shot_df['SEASON'] != \"GAME_ID\"]\n",
    "\n",
    "#convert columns to numbers\n",
    "shot_df[[\"SEASON\", \"GAME_ID\", \"SV_GAME_ID\", \"TEAM_ID\", \"SV_TEAM_ID\", \"PERSON_ID\", \"SV_PLAYER_ID\", \"PERIOD\", \"GAME_CLOCK\", \"WALL_CLOCK\", \"DRIBBLES\", \"SHOT_DIST\", \"TOUCH_TIME\", \"CLOSE_DEF_PERSON_ID\", \"CLOSE_DEF_SV_PLAYER_ID\", \"CLOSE_DEF_DIST\", \"PT_VALUE\", \"PTS\"]] = shot_df[[\"SEASON\", \"GAME_ID\", \"SV_GAME_ID\", \"TEAM_ID\", \"SV_TEAM_ID\", \"PERSON_ID\", \"SV_PLAYER_ID\", \"PERIOD\", \"GAME_CLOCK\", \"WALL_CLOCK\", \"DRIBBLES\", \"SHOT_DIST\", \"TOUCH_TIME\", \"CLOSE_DEF_PERSON_ID\", \"CLOSE_DEF_SV_PLAYER_ID\", \"CLOSE_DEF_DIST\", \"PT_VALUE\", \"PTS\"]].apply(pd.to_numeric)\n",
    "\n",
    "#convert missed/made to 0/1\n",
    "shot_df['SHOT_RESULT'] = shot_df['SHOT_RESULT'].replace({'missed': 0})\n",
    "shot_df['SHOT_RESULT'] = shot_df['SHOT_RESULT'].replace({'made': 1})\n",
    "\n",
    "#classify shot distances\n",
    "shot_df.loc[shot_df['PT_VALUE'] == 3, 'SHOT_TYPE'] = \"Three Pointer\"\n",
    "shot_df.loc[(shot_df['SHOT_DIST'] >= 15) & (shot_df['PT_VALUE'] == 2), 'SHOT_TYPE'] = \"Long Two-Pointer\"\n",
    "shot_df.loc[(shot_df['SHOT_DIST'] >= 5) & (shot_df['SHOT_DIST'] < 15), 'SHOT_TYPE'] = \"Midrange\"\n",
    "shot_df.loc[shot_df['SHOT_DIST']< 5, 'SHOT_TYPE'] = \"Layup\""
   ]
  },
  {
   "cell_type": "code",
   "execution_count": 59,
   "metadata": {},
   "outputs": [],
   "source": [
    "#drop everything but shot distance\n",
    "shot_df = shot_df[['SHOT_RESULT', \"SHOT_DIST\", \"DRIBBLES\", \"CLOSE_DEF_DIST\", \"TOUCH_TIME\"]]\n"
   ]
  },
  {
   "cell_type": "code",
   "execution_count": 67,
   "metadata": {},
   "outputs": [],
   "source": [
    "from sklearn.model_selection import train_test_split\n"
   ]
  },
  {
   "cell_type": "code",
   "execution_count": 68,
   "metadata": {},
   "outputs": [],
   "source": [
    "X_train, X_test, y_train, y_test = train_test_split(shot_df.drop('SHOT_RESULT',axis=1), \n",
    "                                                    shot_df['SHOT_RESULT'], test_size=0.3, \n",
    "                                                  random_state=101)"
   ]
  },
  {
   "cell_type": "code",
   "execution_count": 69,
   "metadata": {},
   "outputs": [],
   "source": [
    "from sklearn.linear_model import LinearRegression"
   ]
  },
  {
   "cell_type": "code",
   "execution_count": 70,
   "metadata": {},
   "outputs": [
    {
     "data": {
      "text/plain": [
       "LinearRegression(copy_X=True, fit_intercept=True, n_jobs=1, normalize=False)"
      ]
     },
     "execution_count": 70,
     "metadata": {},
     "output_type": "execute_result"
    }
   ],
   "source": [
    "lm = LinearRegression()\n",
    "lm.fit(X_train,y_train)"
   ]
  },
  {
   "cell_type": "code",
   "execution_count": 71,
   "metadata": {},
   "outputs": [
    {
     "name": "stdout",
     "output_type": "stream",
     "text": [
      "0.587292274183266\n"
     ]
    }
   ],
   "source": [
    "print(lm.intercept_)"
   ]
  },
  {
   "cell_type": "code",
   "execution_count": 73,
   "metadata": {},
   "outputs": [
    {
     "data": {
      "text/html": [
       "<div>\n",
       "<style scoped>\n",
       "    .dataframe tbody tr th:only-of-type {\n",
       "        vertical-align: middle;\n",
       "    }\n",
       "\n",
       "    .dataframe tbody tr th {\n",
       "        vertical-align: top;\n",
       "    }\n",
       "\n",
       "    .dataframe thead th {\n",
       "        text-align: right;\n",
       "    }\n",
       "</style>\n",
       "<table border=\"1\" class=\"dataframe\">\n",
       "  <thead>\n",
       "    <tr style=\"text-align: right;\">\n",
       "      <th></th>\n",
       "      <th>Coefficient</th>\n",
       "    </tr>\n",
       "  </thead>\n",
       "  <tbody>\n",
       "    <tr>\n",
       "      <th>TOUCH_TIME</th>\n",
       "      <td>-0.015481</td>\n",
       "    </tr>\n",
       "    <tr>\n",
       "      <th>SHOT_DIST</th>\n",
       "      <td>-0.014570</td>\n",
       "    </tr>\n",
       "    <tr>\n",
       "      <th>DRIBBLES</th>\n",
       "      <td>0.006497</td>\n",
       "    </tr>\n",
       "    <tr>\n",
       "      <th>CLOSE_DEF_DIST</th>\n",
       "      <td>0.022176</td>\n",
       "    </tr>\n",
       "  </tbody>\n",
       "</table>\n",
       "</div>"
      ],
      "text/plain": [
       "                Coefficient\n",
       "TOUCH_TIME        -0.015481\n",
       "SHOT_DIST         -0.014570\n",
       "DRIBBLES           0.006497\n",
       "CLOSE_DEF_DIST     0.022176"
      ]
     },
     "execution_count": 73,
     "metadata": {},
     "output_type": "execute_result"
    }
   ],
   "source": [
    "coeff_df = pd.DataFrame(lm.coef_,shot_df.drop('SHOT_RESULT',axis=1).columns,columns=['Coefficient'])\n",
    "coeff_df.sort_values(by=['Coefficient'])"
   ]
  },
  {
   "cell_type": "code",
   "execution_count": 74,
   "metadata": {},
   "outputs": [],
   "source": [
    "predictions = lm.predict(X_test)"
   ]
  },
  {
   "cell_type": "code",
   "execution_count": 81,
   "metadata": {},
   "outputs": [],
   "source": [
    "from sklearn import metrics\n",
    "from sklearn.metrics import r2_score\n"
   ]
  },
  {
   "cell_type": "code",
   "execution_count": 83,
   "metadata": {},
   "outputs": [
    {
     "name": "stdout",
     "output_type": "stream",
     "text": [
      "R^2: -0.05131141079815049\n"
     ]
    }
   ],
   "source": [
    "print('R^2:', r2_score(y_test, predictions))\n"
   ]
  },
  {
   "cell_type": "code",
   "execution_count": null,
   "metadata": {},
   "outputs": [],
   "source": []
  }
 ],
 "metadata": {
  "kernelspec": {
   "display_name": "Python 3",
   "language": "python",
   "name": "python3"
  },
  "language_info": {
   "codemirror_mode": {
    "name": "ipython",
    "version": 3
   },
   "file_extension": ".py",
   "mimetype": "text/x-python",
   "name": "python",
   "nbconvert_exporter": "python",
   "pygments_lexer": "ipython3",
   "version": "3.6.8"
  }
 },
 "nbformat": 4,
 "nbformat_minor": 2
}
