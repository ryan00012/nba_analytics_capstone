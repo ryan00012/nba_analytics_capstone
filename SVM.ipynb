{
 "cells": [
  {
   "cell_type": "code",
   "execution_count": 1,
   "metadata": {},
   "outputs": [],
   "source": [
    "import pandas as pd\n",
    "import numpy as np\n",
    "import seaborn as sns"
   ]
  },
  {
   "cell_type": "code",
   "execution_count": 2,
   "metadata": {},
   "outputs": [
    {
     "name": "stderr",
     "output_type": "stream",
     "text": [
      "/anaconda3/lib/python3.6/site-packages/IPython/core/interactiveshell.py:2728: DtypeWarning: Columns (0,1,2,3,5,6,8,9,11,12,13,14,15,16,18,19,20) have mixed types. Specify dtype option on import or set low_memory=False.\n",
      "  interactivity=interactivity, compiler=compiler, result=result)\n"
     ]
    }
   ],
   "source": [
    "#Data prep\n",
    "shot_df = pd.read_csv(\"Hackathon_sv_shot_summary_2015-16.txt\", sep=\" \")\n",
    "\n",
    "#have 165 occurences of null for closet defender id\n",
    "shot_df = shot_df.replace({'(null)': -1})\n",
    "\n",
    "#shot_df = shot_df.drop(shot_df.index[222316])\n",
    "shot_df = shot_df[shot_df['SEASON'] != \"GAME_ID\"]\n",
    "\n",
    "#convert columns to numbers\n",
    "shot_df[[\"SEASON\", \"GAME_ID\", \"SV_GAME_ID\", \"TEAM_ID\", \"SV_TEAM_ID\", \"PERSON_ID\", \"SV_PLAYER_ID\", \"PERIOD\", \"GAME_CLOCK\", \"WALL_CLOCK\", \"DRIBBLES\", \"SHOT_DIST\", \"TOUCH_TIME\", \"CLOSE_DEF_PERSON_ID\", \"CLOSE_DEF_SV_PLAYER_ID\", \"CLOSE_DEF_DIST\", \"PT_VALUE\", \"PTS\"]] = shot_df[[\"SEASON\", \"GAME_ID\", \"SV_GAME_ID\", \"TEAM_ID\", \"SV_TEAM_ID\", \"PERSON_ID\", \"SV_PLAYER_ID\", \"PERIOD\", \"GAME_CLOCK\", \"WALL_CLOCK\", \"DRIBBLES\", \"SHOT_DIST\", \"TOUCH_TIME\", \"CLOSE_DEF_PERSON_ID\", \"CLOSE_DEF_SV_PLAYER_ID\", \"CLOSE_DEF_DIST\", \"PT_VALUE\", \"PTS\"]].apply(pd.to_numeric)\n",
    "\n",
    "#convert missed/made to 0/1\n",
    "shot_df['SHOT_RESULT'] = shot_df['SHOT_RESULT'].replace({'missed': 0})\n",
    "shot_df['SHOT_RESULT'] = shot_df['SHOT_RESULT'].replace({'made': 1})\n",
    "\n",
    "#classify shot distances\n",
    "shot_df.loc[shot_df['PT_VALUE'] == 3, 'SHOT_TYPE'] = \"Three Pointer\"\n",
    "shot_df.loc[(shot_df['SHOT_DIST'] >= 15) & (shot_df['PT_VALUE'] == 2), 'SHOT_TYPE'] = \"Long Two-Pointer\"\n",
    "shot_df.loc[(shot_df['SHOT_DIST'] >= 5) & (shot_df['SHOT_DIST'] < 15), 'SHOT_TYPE'] = \"Midrange\"\n",
    "shot_df.loc[shot_df['SHOT_DIST']< 5, 'SHOT_TYPE'] = \"Layup\""
   ]
  },
  {
   "cell_type": "code",
   "execution_count": 9,
   "metadata": {},
   "outputs": [
    {
     "data": {
      "text/html": [
       "<div>\n",
       "<style scoped>\n",
       "    .dataframe tbody tr th:only-of-type {\n",
       "        vertical-align: middle;\n",
       "    }\n",
       "\n",
       "    .dataframe tbody tr th {\n",
       "        vertical-align: top;\n",
       "    }\n",
       "\n",
       "    .dataframe thead th {\n",
       "        text-align: right;\n",
       "    }\n",
       "</style>\n",
       "<table border=\"1\" class=\"dataframe\">\n",
       "  <thead>\n",
       "    <tr style=\"text-align: right;\">\n",
       "      <th></th>\n",
       "      <th>SHOT_RESULT</th>\n",
       "      <th>SHOT_DIST</th>\n",
       "      <th>DRIBBLES</th>\n",
       "      <th>CLOSE_DEF_DIST</th>\n",
       "      <th>SV_PLAYER_ID</th>\n",
       "    </tr>\n",
       "  </thead>\n",
       "  <tbody>\n",
       "    <tr>\n",
       "      <th>1</th>\n",
       "      <td>0</td>\n",
       "      <td>40.10</td>\n",
       "      <td>3</td>\n",
       "      <td>0.68</td>\n",
       "      <td>3741</td>\n",
       "    </tr>\n",
       "    <tr>\n",
       "      <th>2</th>\n",
       "      <td>0</td>\n",
       "      <td>2.43</td>\n",
       "      <td>16</td>\n",
       "      <td>2.90</td>\n",
       "      <td>5187</td>\n",
       "    </tr>\n",
       "    <tr>\n",
       "      <th>3</th>\n",
       "      <td>1</td>\n",
       "      <td>21.09</td>\n",
       "      <td>0</td>\n",
       "      <td>4.03</td>\n",
       "      <td>5359</td>\n",
       "    </tr>\n",
       "    <tr>\n",
       "      <th>4</th>\n",
       "      <td>1</td>\n",
       "      <td>4.60</td>\n",
       "      <td>13</td>\n",
       "      <td>0.97</td>\n",
       "      <td>5187</td>\n",
       "    </tr>\n",
       "    <tr>\n",
       "      <th>5</th>\n",
       "      <td>0</td>\n",
       "      <td>22.59</td>\n",
       "      <td>3</td>\n",
       "      <td>4.52</td>\n",
       "      <td>4895</td>\n",
       "    </tr>\n",
       "  </tbody>\n",
       "</table>\n",
       "</div>"
      ],
      "text/plain": [
       "   SHOT_RESULT  SHOT_DIST  DRIBBLES  CLOSE_DEF_DIST  SV_PLAYER_ID\n",
       "1            0      40.10         3            0.68          3741\n",
       "2            0       2.43        16            2.90          5187\n",
       "3            1      21.09         0            4.03          5359\n",
       "4            1       4.60        13            0.97          5187\n",
       "5            0      22.59         3            4.52          4895"
      ]
     },
     "execution_count": 9,
     "metadata": {},
     "output_type": "execute_result"
    }
   ],
   "source": [
    "#drop everything but shot distance\n",
    "shot_df = shot_df[['SHOT_RESULT', \"SHOT_DIST\", \"DRIBBLES\", \"CLOSE_DEF_DIST\", \"SV_PLAYER_ID\"]]\n",
    "\n",
    "shot_df.head()"
   ]
  },
  {
   "cell_type": "code",
   "execution_count": 10,
   "metadata": {},
   "outputs": [],
   "source": [
    "from sklearn.model_selection import train_test_split"
   ]
  },
  {
   "cell_type": "code",
   "execution_count": 11,
   "metadata": {},
   "outputs": [],
   "source": [
    "X_train, X_test, y_train, y_test = train_test_split(shot_df.drop('SHOT_RESULT',axis=1), \n",
    "                                                    shot_df['SHOT_RESULT'], test_size=0.3, \n",
    "                                                    random_state=101)\n"
   ]
  },
  {
   "cell_type": "code",
   "execution_count": 12,
   "metadata": {},
   "outputs": [],
   "source": [
    "from sklearn.svm import SVC"
   ]
  },
  {
   "cell_type": "code",
   "execution_count": 13,
   "metadata": {},
   "outputs": [
    {
     "data": {
      "text/plain": [
       "SVC(C=1.0, cache_size=200, class_weight=None, coef0=0.0,\n",
       "  decision_function_shape='ovr', degree=3, gamma='auto', kernel='rbf',\n",
       "  max_iter=-1, probability=False, random_state=None, shrinking=True,\n",
       "  tol=0.001, verbose=False)"
      ]
     },
     "execution_count": 13,
     "metadata": {},
     "output_type": "execute_result"
    }
   ],
   "source": [
    "model = SVC()\n",
    "model.fit(X_train,y_train)"
   ]
  },
  {
   "cell_type": "code",
   "execution_count": 14,
   "metadata": {},
   "outputs": [],
   "source": [
    "predictions = model.predict(X_test)"
   ]
  },
  {
   "cell_type": "code",
   "execution_count": 15,
   "metadata": {},
   "outputs": [],
   "source": [
    "from sklearn.metrics import classification_report,confusion_matrix"
   ]
  },
  {
   "cell_type": "code",
   "execution_count": 16,
   "metadata": {},
   "outputs": [
    {
     "name": "stdout",
     "output_type": "stream",
     "text": [
      "[[27305  9264]\n",
      " [17474 12653]]\n"
     ]
    }
   ],
   "source": [
    "print(confusion_matrix(y_test,predictions))"
   ]
  },
  {
   "cell_type": "code",
   "execution_count": 17,
   "metadata": {},
   "outputs": [
    {
     "name": "stdout",
     "output_type": "stream",
     "text": [
      "             precision    recall  f1-score   support\n",
      "\n",
      "          0       0.61      0.75      0.67     36569\n",
      "          1       0.58      0.42      0.49     30127\n",
      "\n",
      "avg / total       0.60      0.60      0.59     66696\n",
      "\n"
     ]
    }
   ],
   "source": [
    "print(classification_report(y_test,predictions))"
   ]
  },
  {
   "cell_type": "code",
   "execution_count": null,
   "metadata": {},
   "outputs": [],
   "source": []
  }
 ],
 "metadata": {
  "kernelspec": {
   "display_name": "Python 3",
   "language": "python",
   "name": "python3"
  },
  "language_info": {
   "codemirror_mode": {
    "name": "ipython",
    "version": 3
   },
   "file_extension": ".py",
   "mimetype": "text/x-python",
   "name": "python",
   "nbconvert_exporter": "python",
   "pygments_lexer": "ipython3",
   "version": "3.6.4"
  }
 },
 "nbformat": 4,
 "nbformat_minor": 2
}
